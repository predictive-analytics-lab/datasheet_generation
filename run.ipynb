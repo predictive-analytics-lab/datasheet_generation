{
 "cells": [
  {
   "cell_type": "markdown",
   "metadata": {},
   "source": [
    "## Imports"
   ]
  },
  {
   "cell_type": "code",
   "execution_count": null,
   "metadata": {},
   "outputs": [],
   "source": [
    "from typing import List\n",
    "from itertools import product\n",
    "import warnings\n",
    "\n",
    "from baynet import DAG, metrics\n",
    "\n",
    "import tqdm.notebook as tq\n",
    "\n",
    "import numpy as np\n",
    "import pandas as pd\n",
    "\n",
    "import networkx as nx\n",
    "from cdt.causality import graph\n",
    "from cdt.utils import dagify_min_edge"
   ]
  },
  {
   "cell_type": "markdown",
   "metadata": {},
   "source": [
    "## Utility Functions"
   ]
  },
  {
   "cell_type": "code",
   "execution_count": null,
   "metadata": {},
   "outputs": [],
   "source": [
    "def _cdt_to_baynet(cpdag: nx.DiGraph, columns: List[str]) -> DAG:\n",
    "    adj_matrix = np.array(nx.adj_matrix(cpdag).todense())\n",
    "    graph = DAG.from_amat(adj_matrix, columns)\n",
    "    return graph\n",
    "\n",
    "def PC(data: pd.DataFrame, ci_test: str = \"discrete\") -> DAG:\n",
    "    \"\"\"\n",
    "    Wrap of the CDT predict function of the PC algorithm. Return a learnt DAG from data.\n",
    "\n",
    "    :param data: The data which the structure will be learnt with (Pandas.DataFrame)\n",
    "    :param ci_test: The (str) argument specifying which Conditional Indep. test to use\n",
    "    :return: A learnt DAG (BayNet DAG)\n",
    "    \"\"\"\n",
    "    pc_alg = graph.PC(CItest=ci_test, verbose=False)\n",
    "    cpdag = pc_alg.predict(data)\n",
    "    dag = dagify_min_edge(cpdag)\n",
    "    return _cdt_to_baynet(dag, list(data.columns))\n",
    "\n",
    "def GES(data: pd.DataFrame, score: str = \"int\") -> DAG:\n",
    "    \"\"\"\n",
    "    Wrap of the CDT predict function of the GES algorithm. Return a learnt DAG from data.\n",
    "\n",
    "    :param data: The data which the structure will be learnt with (Pandas.DataFrame)\n",
    "    :param score: The (str) argument specifying which score function to use\n",
    "    :return: A learnt DAG (BayNet DAG)\n",
    "    \"\"\"\n",
    "    ges_alg = graph.GES(score=score, verbose=False)\n",
    "    cpdag = ges_alg.predict(data)\n",
    "    dag = dagify_min_edge(cpdag)\n",
    "    return _cdt_to_baynet(dag, list(data.columns))    "
   ]
  },
  {
   "cell_type": "markdown",
   "metadata": {},
   "source": [
    "## Input"
   ]
  },
  {
   "cell_type": "code",
   "execution_count": null,
   "metadata": {},
   "outputs": [],
   "source": [
    "trials = list(range(1, 11)) # 1 -> 10\n",
    "structure_types = [\"forest_fire\", \"barabasi_albert\", \"watts_strogatz\", \"ide_cozman\", \"waxman\"] \n",
    "variables = [40]\n",
    "samples = [5000]\n",
    "alphas = [6.0]\n",
    "max_levels = [4]\n",
    "\n",
    "algorithms = [GES, PC]"
   ]
  },
  {
   "cell_type": "markdown",
   "metadata": {},
   "source": [
    "## Run Experiments"
   ]
  },
  {
   "cell_type": "code",
   "execution_count": null,
   "metadata": {},
   "outputs": [],
   "source": [
    "warnings.filterwarnings('ignore')\n",
    "tq.tqdm._instances.clear()\n",
    "\n",
    "columns = [\"Trial\", \"Structure Type\", \"N_Variables\",\n",
    "           \"N_Samples\", \"Alpha\", \"Max_Level\",\n",
    "           \"Algorithm\", \"Skeleton Precision\", \"Skeleton Recall\", \n",
    "           \"V_Structure_Precision\", \"V_Structure_Recall\"]\n",
    "results = []\n",
    "\n",
    "for trial, structure_type, variable, sample, alpha, max_level, algorithm in tq.tqdm(list(product(*[trials, structure_types, variables, samples, alphas, max_levels, algorithms]))):\n",
    "    # ---------  Create Data ------------\n",
    "    dag = DAG.generate(structure_type, variable)\n",
    "    dag.generate_discrete_parameters(alpha=alpha, min_levels=2, max_levels=max_level, seed=trial)\n",
    "    data = dag.sample(sample)\n",
    "    # --------- Learn BN ---------------\n",
    "    # Learn Structure\n",
    "    learnt_dag = algorithm(data)\n",
    "    # Learn Parameters\n",
    "    learnt_dag.estimate_parameters(data, infer_levels=True)\n",
    "    # -------- Calculate Metrics -------------\n",
    "    # Skeleton\n",
    "    precision = metrics.precision(dag, learnt_dag, skeleton=True)\n",
    "    recall = metrics.recall(dag, learnt_dag, skeleton=True)\n",
    "    # V Structures\n",
    "    v_precision = metrics.v_precision(dag, learnt_dag)\n",
    "    v_recall = metrics.v_recall(dag, learnt_dag)\n",
    "    results.append([trial, structure_type, variable, sample, alpha, max_level, algorithm.__name__, precision, recall, v_precision, v_recall])\n",
    "\n",
    "results_df = pd.DataFrame(results, columns=columns)\n",
    "results_df.to_csv(\"results.csv\")"
   ]
  },
  {
   "cell_type": "code",
   "execution_count": null,
   "metadata": {},
   "outputs": [],
   "source": [
    "results_df"
   ]
  }
 ],
 "metadata": {
  "kernelspec": {
   "display_name": "Python 3",
   "language": "python",
   "name": "python3"
  },
  "language_info": {
   "codemirror_mode": {
    "name": "ipython",
    "version": 3
   },
   "file_extension": ".py",
   "mimetype": "text/x-python",
   "name": "python",
   "nbconvert_exporter": "python",
   "pygments_lexer": "ipython3",
   "version": "3.7.4"
  }
 },
 "nbformat": 4,
 "nbformat_minor": 4
}
